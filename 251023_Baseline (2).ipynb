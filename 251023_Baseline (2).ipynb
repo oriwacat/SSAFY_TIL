{
 "cells": [
  {
   "cell_type": "markdown",
   "metadata": {
    "id": "lY2ef3IwSUbU"
   },
   "source": [
    "# baseline v4 (수정 버전)\n",
    "\n",
    "기존 베이스라인 코드의 문제점을 수정한 버전입니다.\n",
    "\n",
    "**주요 수정 내용:**\n",
    "- 라이브러리 버전 충돌 해결\n",
    "- 학습 데이터 증가 (200 -> 1000)\n",
    "- 학습 횟수(Epoch) 증가 (1 -> 3)\n",
    "- 코드 내 경고 메시지 수정 및 경로 유연성 확보\n",
    "- 모델 답변 처리 로직 개선"
   ]
  },
  {
   "cell_type": "markdown",
   "metadata": {
    "id": "7HBjYvBZSzqr"
   },
   "source": [
    "# 환경 준비\n",
    "\n",
    "개발 환경에 필요한 라이브러리를 설치합니다.\n",
    "실행 후 **런타임 -> 세션 다시 시작**을 눌러주세요."
   ]
  },
  {
   "cell_type": "code",
   "execution_count": null,
   "metadata": {
    "id": "oGS9ISsxSqUt"
   },
   "outputs": [],
   "source": [
    "!pip -q install \"transformers==4.41.2\" \"accelerate==0.32.1\" \"peft==0.11.1\" \"bitsandbytes==0.43.1\" \"datasets==2.20.0\" \"pillow==10.4.0\" \"pandas==2.2.2\" \"torch==2.3.1\" \"torchvision==0.18.1\" --upgrade"
   ]
  },
  {
   "cell_type": "markdown",
   "metadata": {
    "id": "P0wuwJLPTJpQ"
   },
   "source": [
    "# 데이터 준비\n",
    "\n",
    "구글 드라이브를 마운트하고 `data.zip` 파일의 압축을 해제합니다."
   ]
  },
  {
   "cell_type": "code",
   "execution_count": null,
   "metadata": {
    "id": "PXxjjvUpTLMA"
   },
   "outputs": [],
   "source": [
    